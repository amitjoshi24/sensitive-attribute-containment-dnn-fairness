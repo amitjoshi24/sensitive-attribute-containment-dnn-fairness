{
 "cells": [
  {
   "cell_type": "markdown",
   "id": "5c648555",
   "metadata": {
    "id": "5c648555"
   },
   "source": [
    "# Grad NN Final Project"
   ]
  },
  {
   "cell_type": "markdown",
   "id": "8021f3bf",
   "metadata": {
    "id": "8021f3bf"
   },
   "source": [
    "### Prelude"
   ]
  },
  {
   "cell_type": "markdown",
   "id": "c5165173",
   "metadata": {
    "id": "c5165173"
   },
   "source": [
    "Here is the code for loading and cleaning up the dataset."
   ]
  },
  {
   "cell_type": "code",
   "execution_count": 10,
   "id": "3552be37",
   "metadata": {
    "id": "3552be37"
   },
   "outputs": [
    {
     "data": {
      "text/html": [
       "<div>\n",
       "<style scoped>\n",
       "    .dataframe tbody tr th:only-of-type {\n",
       "        vertical-align: middle;\n",
       "    }\n",
       "\n",
       "    .dataframe tbody tr th {\n",
       "        vertical-align: top;\n",
       "    }\n",
       "\n",
       "    .dataframe thead th {\n",
       "        text-align: right;\n",
       "    }\n",
       "</style>\n",
       "<table border=\"1\" class=\"dataframe\">\n",
       "  <thead>\n",
       "    <tr style=\"text-align: right;\">\n",
       "      <th></th>\n",
       "      <th>age</th>\n",
       "      <th>sex</th>\n",
       "      <th>juv_fel_count</th>\n",
       "      <th>decile_score</th>\n",
       "      <th>priors_count</th>\n",
       "      <th>is_recid</th>\n",
       "      <th>v_decile_score</th>\n",
       "      <th>race</th>\n",
       "    </tr>\n",
       "  </thead>\n",
       "  <tbody>\n",
       "    <tr>\n",
       "      <th>1</th>\n",
       "      <td>34</td>\n",
       "      <td>1</td>\n",
       "      <td>0</td>\n",
       "      <td>3</td>\n",
       "      <td>0</td>\n",
       "      <td>1</td>\n",
       "      <td>1</td>\n",
       "      <td>1</td>\n",
       "    </tr>\n",
       "    <tr>\n",
       "      <th>2</th>\n",
       "      <td>24</td>\n",
       "      <td>1</td>\n",
       "      <td>0</td>\n",
       "      <td>4</td>\n",
       "      <td>4</td>\n",
       "      <td>1</td>\n",
       "      <td>3</td>\n",
       "      <td>1</td>\n",
       "    </tr>\n",
       "    <tr>\n",
       "      <th>6</th>\n",
       "      <td>41</td>\n",
       "      <td>1</td>\n",
       "      <td>0</td>\n",
       "      <td>6</td>\n",
       "      <td>14</td>\n",
       "      <td>1</td>\n",
       "      <td>2</td>\n",
       "      <td>0</td>\n",
       "    </tr>\n",
       "    <tr>\n",
       "      <th>8</th>\n",
       "      <td>39</td>\n",
       "      <td>0</td>\n",
       "      <td>0</td>\n",
       "      <td>1</td>\n",
       "      <td>0</td>\n",
       "      <td>0</td>\n",
       "      <td>1</td>\n",
       "      <td>0</td>\n",
       "    </tr>\n",
       "    <tr>\n",
       "      <th>10</th>\n",
       "      <td>27</td>\n",
       "      <td>1</td>\n",
       "      <td>0</td>\n",
       "      <td>4</td>\n",
       "      <td>0</td>\n",
       "      <td>0</td>\n",
       "      <td>4</td>\n",
       "      <td>0</td>\n",
       "    </tr>\n",
       "    <tr>\n",
       "      <th>11</th>\n",
       "      <td>23</td>\n",
       "      <td>1</td>\n",
       "      <td>0</td>\n",
       "      <td>6</td>\n",
       "      <td>3</td>\n",
       "      <td>1</td>\n",
       "      <td>4</td>\n",
       "      <td>1</td>\n",
       "    </tr>\n",
       "    <tr>\n",
       "      <th>12</th>\n",
       "      <td>37</td>\n",
       "      <td>0</td>\n",
       "      <td>0</td>\n",
       "      <td>1</td>\n",
       "      <td>0</td>\n",
       "      <td>0</td>\n",
       "      <td>1</td>\n",
       "      <td>0</td>\n",
       "    </tr>\n",
       "    <tr>\n",
       "      <th>13</th>\n",
       "      <td>41</td>\n",
       "      <td>1</td>\n",
       "      <td>0</td>\n",
       "      <td>4</td>\n",
       "      <td>0</td>\n",
       "      <td>0</td>\n",
       "      <td>2</td>\n",
       "      <td>1</td>\n",
       "    </tr>\n",
       "    <tr>\n",
       "      <th>14</th>\n",
       "      <td>47</td>\n",
       "      <td>0</td>\n",
       "      <td>0</td>\n",
       "      <td>1</td>\n",
       "      <td>1</td>\n",
       "      <td>1</td>\n",
       "      <td>1</td>\n",
       "      <td>0</td>\n",
       "    </tr>\n",
       "    <tr>\n",
       "      <th>15</th>\n",
       "      <td>31</td>\n",
       "      <td>1</td>\n",
       "      <td>0</td>\n",
       "      <td>3</td>\n",
       "      <td>7</td>\n",
       "      <td>1</td>\n",
       "      <td>2</td>\n",
       "      <td>1</td>\n",
       "    </tr>\n",
       "  </tbody>\n",
       "</table>\n",
       "</div>"
      ],
      "text/plain": [
       "    age  sex  juv_fel_count  decile_score  priors_count  is_recid  \\\n",
       "1    34    1              0             3             0         1   \n",
       "2    24    1              0             4             4         1   \n",
       "6    41    1              0             6            14         1   \n",
       "8    39    0              0             1             0         0   \n",
       "10   27    1              0             4             0         0   \n",
       "11   23    1              0             6             3         1   \n",
       "12   37    0              0             1             0         0   \n",
       "13   41    1              0             4             0         0   \n",
       "14   47    0              0             1             1         1   \n",
       "15   31    1              0             3             7         1   \n",
       "\n",
       "    v_decile_score  race  \n",
       "1                1     1  \n",
       "2                3     1  \n",
       "6                2     0  \n",
       "8                1     0  \n",
       "10               4     0  \n",
       "11               4     1  \n",
       "12               1     0  \n",
       "13               2     1  \n",
       "14               1     0  \n",
       "15               2     1  "
      ]
     },
     "execution_count": 10,
     "metadata": {},
     "output_type": "execute_result"
    }
   ],
   "source": [
    "import pandas as pd\n",
    "import matplotlib.pyplot as plt\n",
    "import seaborn as sns\n",
    "%matplotlib inline\n",
    "\n",
    "'''Data = pd.read_csv(\"german_credit_data.csv\")\n",
    "Data['Saving accounts'] = Data['Saving accounts'].map({\"little\":0,\"moderate\":1,\"quite rich\":2 ,\"rich\":3 });\n",
    "Data['Saving accounts'] = Data['Saving accounts'].fillna(Data['Saving accounts'].dropna().mean())\n",
    "\n",
    "Data['Checking account'] = Data['Checking account'].map({\"little\":0,\"moderate\":1,\"rich\":2 });\n",
    "Data['Checking account'] = Data['Checking account'].fillna(Data['Checking account'].dropna().mean())\n",
    "\n",
    "Data['race'] = Data['race'].map({\"black\":0,\"white\":1}).astype(float)\n",
    "\n",
    "Data['Housing'] = Data['Housing'].map({\"own\":0,\"free\":1,\"rent\":2}).astype(float)\n",
    "\n",
    "Data['Purpose'] = Data['Purpose'].map({'radio/TV':0, 'education':1, 'furniture/equipment':2, 'car':3, 'business':4,\n",
    "       'domestic appliances':5, 'repairs':6, 'vacation/others':7}).astype(float)\n",
    "\n",
    "Data['Risk'] = Data['Risk'].map({\"good\":0,\"bad\":1}).astype(float)\n",
    "Data = Data.drop(columns=['Unnamed: 0'])\n",
    "Data.head(10)'''\n",
    "\n",
    "import pandas as pd\n",
    "import warnings\n",
    "from sklearn.exceptions import DataConversionWarning\n",
    "warnings.filterwarnings(\"ignore\", category=FutureWarning)\n",
    "warnings.filterwarnings(action='ignore', category=DataConversionWarning)\n",
    "\n",
    "pd.options.mode.chained_assignment = None # muting a trivial warning about PANDAS, don't worry about this\n",
    "df = pd.read_csv('compas-scores-two-years.csv')\n",
    "df_cleaned = df.loc[(df['days_b_screening_arrest'] <= 30) & (df['days_b_screening_arrest'] >= -30) \n",
    "              & (df['is_recid'] != -1) & (df['c_charge_degree'] != \"O\") & (df['score_text'] != 'N/A')]\n",
    "df_filtered = df_cleaned[['age','sex', 'race', 'juv_fel_count', 'decile_score', 'priors_count', 'is_recid', 'is_violent_recid', \n",
    "                   'v_decile_score']]\n",
    "df_final = df_filtered.join(pd.get_dummies(df_filtered['race']))\n",
    "df_final[\"sex\"] = (df_final[\"sex\"] == \"Male\") + 0 ## Use the binary coding for sex.\n",
    "\n",
    "Data = df_final\n",
    "\n",
    "Data_wb = Data[(Data['African-American'] | Data['Caucasian']) == 1]\n",
    "\n",
    "Data = Data_wb\n",
    "#print (len(Data))\n",
    "\n",
    "Data = Data.drop(columns=['Asian', 'Caucasian', 'Hispanic', 'Native American', 'Other', 'race', 'is_violent_recid'])\n",
    "\n",
    "Data = Data.rename(columns={'African-American': 'race'})\n",
    "Data.head(10)"
   ]
  },
  {
   "cell_type": "code",
   "execution_count": 50,
   "id": "e40caede",
   "metadata": {},
   "outputs": [
    {
     "name": "stdout",
     "output_type": "stream",
     "text": [
      "3175\n",
      "2103\n",
      "5278\n"
     ]
    }
   ],
   "source": [
    "q = df_final[df_final['African-American'] == 1]\n",
    "print (len(q))\n",
    "w = df_final[df_final['Caucasian'] == 1]\n",
    "print (len(w))\n",
    "\n",
    "print (len(Data))"
   ]
  },
  {
   "cell_type": "markdown",
   "id": "2dc649e6",
   "metadata": {
    "id": "2dc649e6"
   },
   "source": [
    "And here is the code for performing a train-test split, training a logistic regression model, and computing the test accuracy."
   ]
  },
  {
   "cell_type": "code",
   "execution_count": 11,
   "id": "d6686ba1",
   "metadata": {
    "id": "d6686ba1"
   },
   "outputs": [],
   "source": [
    "X = Data.drop(columns=[\"is_recid\", \"race\"])\n",
    "Y = Data['is_recid']\n",
    "\n",
    "from sklearn.model_selection import train_test_split\n",
    "\n",
    "train_x, test_x, train_y, test_y = train_test_split(X, Y, test_size=0.2, random_state=137)\n",
    "\n",
    "tempX = Data.drop(columns=[\"is_recid\"])\n",
    "tempY = Data['is_recid']\n",
    "\n",
    "temptrain_x, temptest_x, temptrain_y, temptest_y = train_test_split(tempX, tempY, test_size=0.2, random_state=137)\n",
    "\n",
    "\n",
    "# whiteS ARE 0\n",
    "# blackS ARE 1\n",
    "\n",
    "test_x_black = test_x[temptest_x['race'] == 1]\n",
    "test_y_black = test_y[temptest_x['race'] == 1]\n",
    "\n",
    "test_x_white = test_x[temptest_x['race'] == 0]\n",
    "test_y_white = test_y[temptest_x['race'] == 0]\n",
    "\n",
    "\n",
    "\n",
    "\n"
   ]
  },
  {
   "cell_type": "code",
   "execution_count": 63,
   "id": "90ac0f93",
   "metadata": {},
   "outputs": [
    {
     "name": "stdout",
     "output_type": "stream",
     "text": [
      "Weight for race label 1:  0.396257697773567\n",
      "Weight for race label 0:  0.603742302226433\n",
      "Weight for risk label 1:  0.4971577451444813\n",
      "Weight for risk label 0:  0.5028422548555187\n"
     ]
    }
   ],
   "source": [
    "q = len(temptrain_x[temptrain_x['race'] == 1])\n",
    "\n",
    "w = len(temptrain_x[temptrain_x['race'] == 0])\n",
    "\n",
    "race1weight = 1 - (q/(q+w))\n",
    "race0weight = 1 - (w/(q+w))\n",
    "\n",
    "print (\"Weight for race label 1: \", race1weight)\n",
    "print (\"Weight for race label 0: \", race0weight)\n",
    "\n",
    "e = len(temptrain_y[temptrain_y == 1])\n",
    "r = len(temptrain_y[temptrain_y == 0])\n",
    "\n",
    "risk1weight = 1 - (e/(e+r))\n",
    "risk0weight = 1 - (r/(e+r))\n",
    "\n",
    "print (\"Weight for risk label 1: \", risk1weight)\n",
    "print (\"Weight for risk label 0: \", risk0weight)\n"
   ]
  },
  {
   "cell_type": "code",
   "execution_count": 12,
   "id": "c63edb96",
   "metadata": {},
   "outputs": [],
   "source": [
    "# Getting low risk/high risk data\n",
    "\n",
    "test_x_black_lowrisk = test_x_black[test_y_black == 0]\n",
    "test_y_black_lowrisk = test_y_black[test_y_black == 0]\n",
    "\n",
    "test_x_black_highrisk = test_x_black[test_y_black == 1]\n",
    "test_y_black_highrisk = test_y_black[test_y_black == 1]\n",
    "\n",
    "test_x_white_lowrisk = test_x_white[test_y_white == 0]\n",
    "test_y_white_lowrisk = test_y_white[test_y_white == 0]\n",
    "\n",
    "test_x_white_highrisk = test_x_white[test_y_white == 1]\n",
    "test_y_white_highrisk = test_y_white[test_y_white == 1]"
   ]
  },
  {
   "cell_type": "code",
   "execution_count": 15,
   "id": "2e5c295e",
   "metadata": {},
   "outputs": [],
   "source": [
    "import torch\n",
    "class Dataset(torch.utils.data.Dataset):\n",
    "    \n",
    "    # Create Torch Dataset object.\n",
    "    def __init__(self, X, Y):\n",
    "\n",
    "        #X = X.reshape((-1, 1, 64, 64))  \n",
    "        #self.X = torch.from_numpy(X)\n",
    "        #self.Y = torch.from_numpy(Y)\n",
    "        self.X = X\n",
    "        self.Y = Y\n",
    "        \n",
    "    def __len__(self):\n",
    "        return len(self.Y)\n",
    "\n",
    "    def __getitem__(self, index):\n",
    "        X = self.X[index]\n",
    "        Y = self.Y[index]\n",
    "\n",
    "        return {'X': X, 'Y': Y}"
   ]
  },
  {
   "cell_type": "code",
   "execution_count": 16,
   "id": "99da0fdf",
   "metadata": {},
   "outputs": [],
   "source": [
    "def train(epoch, net, trainDataLoader, optimizer, criterion, validDataLoader):\n",
    "    net.train()\n",
    "    train_loss = 0\n",
    "    for sample in trainDataLoader:\n",
    "        inputs, targets = sample['X'], sample['Y']\n",
    "        #print (inputs, targets)\n",
    "        optimizer.zero_grad()\n",
    "        outputs = net.forward(inputs)\n",
    "        #print (\"outputs/targets\", outputs, targets)\n",
    "        loss = criterion(outputs, targets)\n",
    "        loss.backward()\n",
    "        optimizer.step()\n",
    "        train_loss += loss.item() * batch_size\n",
    "\n",
    "    net.eval()\n",
    "    valid_loss = 0\n",
    "    for sample in validDataLoader:\n",
    "        inputs, targets = sample['X'], sample['Y']\n",
    "        outputs = net(inputs)\n",
    "        loss = criterion(outputs, targets)\n",
    "        valid_loss += loss.item() * batch_size\n",
    "\n",
    "    # calculate average losses\n",
    "    train_loss = train_loss/len(trainDataLoader.sampler)\n",
    "    valid_loss = valid_loss/len(validDataLoader.sampler)\n",
    "\n",
    "    if epoch % 1 == 0:\n",
    "        print('Epoch: {} \\tTraining Loss: {:.6f} \\tValidation Loss: {:.6f}'.format(epoch, train_loss, valid_loss))\n",
    "    return train_loss, valid_loss\n"
   ]
  },
  {
   "cell_type": "code",
   "execution_count": 17,
   "id": "2816f10d",
   "metadata": {},
   "outputs": [],
   "source": [
    "import torch\n",
    "from torch.autograd import Variable\n",
    "import sklearn\n",
    "import numpy as np\n",
    "\n",
    "scaler = sklearn.preprocessing.StandardScaler()\n",
    "train_x = scaler.fit_transform(train_x)\n",
    "test_x = scaler.transform(test_x)\n",
    "test_x_black = scaler.transform(test_x_black)\n",
    "test_x_white = scaler.transform(test_x_white)\n",
    "test_x_black_highrisk = scaler.transform(test_x_black_highrisk)\n",
    "test_x_black_lowrisk = scaler.transform(test_x_black_lowrisk)\n",
    "test_x_white_highrisk = scaler.transform(test_x_white_highrisk)\n",
    "test_x_white_lowrisk = scaler.transform(test_x_white_lowrisk)\n",
    "\n",
    "train_x = torch.from_numpy(train_x.astype(np.float32))\n",
    "test_x = torch.from_numpy(test_x.astype(np.float32))\n",
    "test_x_black = torch.from_numpy(test_x_black.astype(np.float32))\n",
    "test_x_white = torch.from_numpy(test_x_white.astype(np.float32))\n",
    "test_x_black_highrisk = torch.from_numpy(test_x_black_highrisk.astype(np.float32))\n",
    "test_x_black_lowrisk = torch.from_numpy(test_x_black_lowrisk.astype(np.float32))\n",
    "test_x_white_highrisk = torch.from_numpy(test_x_white_highrisk.astype(np.float32))\n",
    "test_x_white_lowrisk = torch.from_numpy(test_x_white_lowrisk.astype(np.float32))\n",
    "\n",
    "\n",
    "\n",
    "# Train_y is now a numpy object \n",
    "train_y = list(train_y)\n",
    "\n",
    "# train_y is now a torch object \n",
    "train_y = torch.as_tensor(train_y, dtype = torch.float32)\n",
    "test_y = torch.as_tensor(list(test_y), dtype=torch.float32)\n",
    "test_y_black = torch.as_tensor(list(test_y_black), dtype=torch.float32)\n",
    "test_y_white = torch.as_tensor(list(test_y_white), dtype=torch.float32)\n",
    "test_y_black_highrisk = torch.as_tensor(list(test_y_black_highrisk), dtype=torch.float32)\n",
    "test_y_black_lowrisk = torch.as_tensor(list(test_y_black_lowrisk), dtype=torch.float32)\n",
    "test_y_white_highrisk = torch.as_tensor(list(test_y_white_highrisk), dtype=torch.float32)\n",
    "test_y_white_lowrisk = torch.as_tensor(list(test_y_white_lowrisk), dtype=torch.float32)\n",
    "\n",
    "\n",
    "train_y = train_y.view(train_y.shape[0],1)\n",
    "test_y = test_y.view(test_y.shape[0],1)\n",
    "test_y_black = test_y_black.view(test_y_black.shape[0],1)\n",
    "test_y_white = test_y_white.view(test_y_white.shape[0],1)\n",
    "test_y_black_highrisk = test_y_black_highrisk.view(test_y_black_highrisk.shape[0],1)\n",
    "test_y_black_lowrisk = test_y_black_lowrisk.view(test_y_black_lowrisk.shape[0],1)\n",
    "test_y_white_highrisk = test_y_white_highrisk.view(test_y_white_highrisk.shape[0],1)\n",
    "test_y_white_lowrisk = test_y_white_lowrisk.view(test_y_white_lowrisk.shape[0],1)\n",
    "\n",
    "n_samples,n_features=train_x.shape"
   ]
  },
  {
   "cell_type": "code",
   "execution_count": 18,
   "id": "50ac4fbb",
   "metadata": {},
   "outputs": [],
   "source": [
    "def accuracy(model, test_x):\n",
    "    model.eval()\n",
    "    with torch.no_grad():\n",
    "     y_pred=model(test_x)\n",
    "     y_pred_class=y_pred.round()\n",
    "     accuracy=(y_pred_class.eq(test_y).sum())/float(test_y.shape[0])\n",
    "     print(accuracy.item())"
   ]
  },
  {
   "cell_type": "code",
   "execution_count": 84,
   "id": "6715840b",
   "metadata": {
    "id": "6715840b"
   },
   "outputs": [
    {
     "name": "stdout",
     "output_type": "stream",
     "text": [
      "torch.Size([4222, 6])\n",
      "<class 'torch.Tensor'>\n",
      "4222\n",
      "epoch 0\n",
      "Epoch: 0 \tTraining Loss: 0.692241 \tValidation Loss: 0.687840\n",
      "epoch 1\n",
      "Epoch: 1 \tTraining Loss: 0.677958 \tValidation Loss: 0.671380\n",
      "epoch 2\n",
      "Epoch: 2 \tTraining Loss: 0.656889 \tValidation Loss: 0.648734\n",
      "epoch 3\n",
      "Epoch: 3 \tTraining Loss: 0.632923 \tValidation Loss: 0.630003\n",
      "epoch 4\n",
      "Epoch: 4 \tTraining Loss: 0.616985 \tValidation Loss: 0.619643\n",
      "epoch 5\n",
      "Epoch: 5 \tTraining Loss: 0.608992 \tValidation Loss: 0.615971\n",
      "epoch 6\n",
      "Epoch: 6 \tTraining Loss: 0.605588 \tValidation Loss: 0.612647\n",
      "epoch 7\n",
      "Epoch: 7 \tTraining Loss: 0.602102 \tValidation Loss: 0.611679\n",
      "epoch 8\n",
      "Epoch: 8 \tTraining Loss: 0.601338 \tValidation Loss: 0.609744\n",
      "epoch 9\n",
      "Epoch: 9 \tTraining Loss: 0.599919 \tValidation Loss: 0.608894\n",
      "epoch 10\n",
      "Epoch: 10 \tTraining Loss: 0.599399 \tValidation Loss: 0.608251\n",
      "epoch 11\n",
      "Epoch: 11 \tTraining Loss: 0.599326 \tValidation Loss: 0.608146\n",
      "epoch 12\n",
      "Epoch: 12 \tTraining Loss: 0.597559 \tValidation Loss: 0.606075\n",
      "epoch 13\n",
      "Epoch: 13 \tTraining Loss: 0.596635 \tValidation Loss: 0.605379\n",
      "epoch 14\n",
      "Epoch: 14 \tTraining Loss: 0.596268 \tValidation Loss: 0.605759\n"
     ]
    }
   ],
   "source": [
    "# YOUR CODE HERE\n",
    "\n",
    "import torch\n",
    "from torch.autograd import Variable\n",
    "\n",
    "\n",
    "class DNN_model(torch.nn.Module):\n",
    " def __init__(self,no_input_features):\n",
    "    super(DNN_model,self).__init__()\n",
    "    self.layer1 = torch.nn.Linear(no_input_features,20)\n",
    "    self.layer2 = torch.nn.Linear(20,20)\n",
    "    self.layer5 = torch.nn.Linear(20,1)\n",
    "    \n",
    "    self.relu = torch.nn.ReLU()\n",
    "    self.sigmoid = torch.nn.Sigmoid()\n",
    "        \n",
    "    self.seq = torch.nn.Sequential(\n",
    "        self.layer1,\n",
    "        self.relu,\n",
    "        self.layer2,\n",
    "        self.relu\n",
    "    )\n",
    "\n",
    " def forward(self,x):\n",
    "    # YOUR ANSWER HERE\n",
    "    return self.sigmoid(self.layer5(self.seq(x)))\n",
    "\n",
    "print(train_x.shape)\n",
    "print (type(train_x))\n",
    "\n",
    "batch_size = 10\n",
    "trainSignData = Dataset(train_x, train_y)\n",
    "print (len(trainSignData))\n",
    "trainDataLoader = torch.utils.data.DataLoader(trainSignData, shuffle=True, batch_size=batch_size)\n",
    "testSignData = Dataset(test_x, test_y)\n",
    "testDataLoader = torch.utils.data.DataLoader(testSignData, shuffle=True, batch_size=batch_size)\n",
    "\n",
    "dnnmodel = DNN_model(train_x.shape[1])\n",
    "dnnepochs = 15\n",
    "dnnlr = 1e-4\n",
    "criterion = torch.nn.BCELoss()\n",
    "dnnoptimizer = torch.optim.Adam(dnnmodel.parameters(), lr=dnnlr, weight_decay=1e-5)\n",
    "for epoch in range(dnnepochs):\n",
    "    #print (\"hey\")\n",
    "    print (\"epoch\", epoch)\n",
    "    train(epoch, dnnmodel, trainDataLoader, dnnoptimizer, criterion, testDataLoader)\n",
    "\n",
    "torch.save(dnnmodel, \"dnnmodel.pt\")"
   ]
  },
  {
   "cell_type": "code",
   "execution_count": 85,
   "id": "c5f0c19d",
   "metadata": {},
   "outputs": [
    {
     "name": "stdout",
     "output_type": "stream",
     "text": [
      "0.6865530014038086\n"
     ]
    }
   ],
   "source": [
    "#print (dnnmodel.forward(test_x).round())\n",
    "\n",
    "accuracy(dnnmodel, test_x)"
   ]
  },
  {
   "cell_type": "markdown",
   "id": "92e66102",
   "metadata": {
    "id": "92e66102"
   },
   "source": [
    "#### Q4: Show the ROC curves for the black and white subgroups, and plot the points corresponding to the different strategies clearly identified. The resulting curve should look like the ROC curve in the FICO score case study that was discussed in class.  (5 points)"
   ]
  },
  {
   "cell_type": "code",
   "execution_count": 28,
   "id": "046a146e",
   "metadata": {
    "id": "046a146e",
    "scrolled": true
   },
   "outputs": [
    {
     "data": {
      "text/plain": [
       "<matplotlib.legend.Legend at 0x1545a4c40>"
      ]
     },
     "execution_count": 28,
     "metadata": {},
     "output_type": "execute_result"
    },
    {
     "data": {
      "image/png": "[encoded data removed]",
      "text/plain": [
       "<Figure size 600x400 with 1 Axes>"
      ]
     },
     "metadata": {
      "needs_background": "light"
     },
     "output_type": "display_data"
    }
   ],
   "source": [
    "import matplotlib.pyplot as plt\n",
    "from sklearn import metrics\n",
    "\n",
    "from matplotlib.pyplot import figure\n",
    "\n",
    "fig, ax = plt.subplots(figsize=(6, 4), dpi=100)\n",
    "\n",
    "blackPreds = dnnmodel(test_x_black).detach()\n",
    "whitePreds = dnnmodel(test_x_white).detach()\n",
    "\n",
    "fpr_m, tpr_m, thresholds_m = metrics.roc_curve(test_y_black, blackPreds)\n",
    "auc = metrics.roc_auc_score(test_y_black, blackPreds)\n",
    "plt.plot(fpr_m,tpr_m,label=\"ROC Curve - black, auc=\"+str(auc))\n",
    "\n",
    "fpr_f, tpr_f, thresholds_f = metrics.roc_curve(test_y_white, whitePreds)\n",
    "auc = metrics.roc_auc_score(test_y_white, whitePreds)\n",
    "plt.plot(fpr_f,tpr_f,label=\"ROC Curve - white, auc=\"+str(auc))\n",
    "\n",
    "# lr_prediction_black_threshold = lr_prediction_black.applymap(lambda x: 1 if x > minBlackThreshold else 0)\n",
    "# lr_prediction_white_threshold = lr_prediction_white.applymap(lambda x: 1 if x > minWhiteThreshold else 0)\n",
    "\n",
    "\n",
    "# ax.scatter(bfp/(bfp + btn), btp/(btp + bfn), c='black', marker='^', s=100, label='Max Profit Black')\n",
    "# ax.scatter(wfp/(wfp + wtn), wtp/(wtp + wfn), c='green', marker='^', s= 100, label=\"Max Profit White\")\n",
    "\n",
    "plt.legend(loc=0, bbox_to_anchor=(1,1))"
   ]
  },
  {
   "cell_type": "markdown",
   "id": "73297eb4",
   "metadata": {
    "id": "73297eb4"
   },
   "source": [
    "#### Q5: (i) Do a calibration plot that plots the fraction of defendants recidividating within two years as a function of the predicted probability of recidivism, for black defendants and white defendants. (ii) Comment (in a couple of sentences) if you believe that the score satisfies sufficiency across racial groups.      (5 points)"
   ]
  },
  {
   "cell_type": "code",
   "execution_count": 29,
   "id": "0915dc43",
   "metadata": {
    "id": "0915dc43"
   },
   "outputs": [
    {
     "data": {
      "image/png": "[encoded data removed]",
      "text/plain": [
       "<Figure size 432x288 with 1 Axes>"
      ]
     },
     "metadata": {
      "needs_background": "light"
     },
     "output_type": "display_data"
    }
   ],
   "source": [
    "# YOUR CODE HERE \n",
    "from sklearn.calibration import calibration_curve\n",
    "y_m, x_m = calibration_curve(\n",
    "    test_y_black, \n",
    "    blackPreds, \n",
    "    n_bins=10)\n",
    "\n",
    "y_f, x_f = calibration_curve(\n",
    "    test_y_white, \n",
    "    whitePreds, \n",
    "    n_bins=10)\n",
    "\n",
    "\n",
    "fig, ax = plt.subplots()\n",
    "\n",
    "plt.plot(x_m, y_m, color='blue', \n",
    "         marker='*', \n",
    "         linewidth = 2, \n",
    "         label='black')\n",
    "\n",
    "plt.plot(x_f, y_f, color='red', \n",
    "         marker='.', \n",
    "         linewidth = 2, \n",
    "         label='white')\n",
    "\n",
    "# # reference line, legends, and axis labels\n",
    "ax.set_xlabel('DNN Score Assigned For Credit Risk')\n",
    "ax.set_ylabel('True Credit Risk')\n",
    "fig.suptitle('DNN Credit Risk output vs True Credit Risk')\n",
    "plt.legend()\n",
    "plt.show()\n",
    "\n"
   ]
  },
  {
   "cell_type": "markdown",
   "id": "117130a4",
   "metadata": {},
   "source": [
    "Being sufficient means $Y \\perp A \\mid R$.  Sufficiency doesn't hold here, as whites are getting predicted to have higher credit risk even when their true credit risk isn't as high (the lines don't match up).  So, whites are getting discriminated against."
   ]
  },
  {
   "cell_type": "markdown",
   "id": "0fa49149",
   "metadata": {
    "id": "0fa49149"
   },
   "source": [
    "#### Q6: (i) Plot the distributions of scores received by the positive class (recidivists) and the distribution of scores received by the negative class (non-recidivists) for black and white defendants. (ii) Based on these plots, comment (in a couple of sentences) if this score satisfies separation.  (5 points)"
   ]
  },
  {
   "cell_type": "code",
   "execution_count": 86,
   "id": "1689c4d5",
   "metadata": {
    "id": "1689c4d5"
   },
   "outputs": [
    {
     "name": "stderr",
     "output_type": "stream",
     "text": [
      "/var/folders/3k/nhgpsd_x0y5111nl043x8tgh0000gn/T/ipykernel_72239/695349462.py:13: UserWarning: \n",
      "\n",
      "`distplot` is a deprecated function and will be removed in seaborn v0.14.0.\n",
      "\n",
      "Please adapt your code to use either `displot` (a figure-level function with\n",
      "similar flexibility) or `histplot` (an axes-level function for histograms).\n",
      "\n",
      "For a guide to updating your code to use the new functions, please see\n",
      "https://gist.github.com/mwaskom/de44147ed2974457ad6372750bbe5751\n",
      "\n",
      "  sns.distplot(whiteLowRiskPreds,\n",
      "/var/folders/3k/nhgpsd_x0y5111nl043x8tgh0000gn/T/ipykernel_72239/695349462.py:16: UserWarning: \n",
      "\n",
      "`distplot` is a deprecated function and will be removed in seaborn v0.14.0.\n",
      "\n",
      "Please adapt your code to use either `displot` (a figure-level function with\n",
      "similar flexibility) or `histplot` (an axes-level function for histograms).\n",
      "\n",
      "For a guide to updating your code to use the new functions, please see\n",
      "https://gist.github.com/mwaskom/de44147ed2974457ad6372750bbe5751\n",
      "\n",
      "  sns.distplot(blackLowRiskPreds,\n",
      "/var/folders/3k/nhgpsd_x0y5111nl043x8tgh0000gn/T/ipykernel_72239/695349462.py:22: UserWarning: \n",
      "\n",
      "`distplot` is a deprecated function and will be removed in seaborn v0.14.0.\n",
      "\n",
      "Please adapt your code to use either `displot` (a figure-level function with\n",
      "similar flexibility) or `histplot` (an axes-level function for histograms).\n",
      "\n",
      "For a guide to updating your code to use the new functions, please see\n",
      "https://gist.github.com/mwaskom/de44147ed2974457ad6372750bbe5751\n",
      "\n",
      "  sns.distplot(whiteHighRiskPreds,\n",
      "/var/folders/3k/nhgpsd_x0y5111nl043x8tgh0000gn/T/ipykernel_72239/695349462.py:25: UserWarning: \n",
      "\n",
      "`distplot` is a deprecated function and will be removed in seaborn v0.14.0.\n",
      "\n",
      "Please adapt your code to use either `displot` (a figure-level function with\n",
      "similar flexibility) or `histplot` (an axes-level function for histograms).\n",
      "\n",
      "For a guide to updating your code to use the new functions, please see\n",
      "https://gist.github.com/mwaskom/de44147ed2974457ad6372750bbe5751\n",
      "\n",
      "  sns.distplot(blackHighRiskPreds,\n"
     ]
    },
    {
     "data": {
      "text/plain": [
       "<matplotlib.legend.Legend at 0x158100eb0>"
      ]
     },
     "execution_count": 86,
     "metadata": {},
     "output_type": "execute_result"
    },
    {
     "data": {
      "image/png": "[encoded data removed]",
      "text/plain": [
       "<Figure size 720x360 with 1 Axes>"
      ]
     },
     "metadata": {
      "needs_background": "light"
     },
     "output_type": "display_data"
    },
    {
     "data": {
      "image/png": "[encoded data removed]",
      "text/plain": [
       "<Figure size 720x360 with 1 Axes>"
      ]
     },
     "metadata": {
      "needs_background": "light"
     },
     "output_type": "display_data"
    }
   ],
   "source": [
    "# YOUR CODE HERE\n",
    "\n",
    "#print (test_y_white.head())\n",
    "\n",
    "blackLowRiskPreds = dnnmodel(test_x_black_lowrisk).detach()\n",
    "blackHighRiskPreds = dnnmodel(test_x_black_highrisk).detach()\n",
    "\n",
    "whiteLowRiskPreds = dnnmodel(test_x_white_lowrisk).detach()\n",
    "whiteHighRiskPreds = dnnmodel(test_x_white_highrisk).detach()\n",
    "\n",
    "import seaborn as sns\n",
    "plt.figure(figsize=(10,5))\n",
    "sns.distplot(whiteLowRiskPreds, \n",
    "             color=\"red\", \n",
    "             label=\"white Low Risk Folk\").set(title = \"Low Risk Folks' Score Distributions\")\n",
    "sns.distplot(blackLowRiskPreds, \n",
    "             color=\"blue\", \n",
    "             label=\"black Low Risk Folk\").set(title = \"Low Risk Folks' Score Distributions\")\n",
    "plt.legend()\n",
    "\n",
    "plt.figure(figsize=(10,5))\n",
    "sns.distplot(whiteHighRiskPreds, \n",
    "             color=\"red\", \n",
    "             label=\"white High Risk Folk\").set(title = \"High Risk Folks' Score Distributions\")\n",
    "sns.distplot(blackHighRiskPreds, \n",
    "             color=\"blue\", \n",
    "             label=\"black High Risk Folk\").set(title = \"High Risk Folks' Score Distributions\")\n",
    "plt.legend()\n",
    "\n",
    "\n"
   ]
  },
  {
   "cell_type": "markdown",
   "id": "95f051c3",
   "metadata": {},
   "source": [
    "Separation means that $R \\perp A \\mid Y$.  So given the true label of recidivism, the logistic regression output must be independent of the race sensitive variable $A$.  This does NOT satisfy separation, because for both labels (non-recidivists and recidivists), we can see that the model outputted significantly lower scores for white people."
   ]
  },
  {
   "cell_type": "code",
   "execution_count": 87,
   "id": "6f0396d9",
   "metadata": {},
   "outputs": [
    {
     "name": "stdout",
     "output_type": "stream",
     "text": [
      "whiteTruePosProb(prob of marking a high risk white):  tensor(0.6436)\n",
      "blackTruePosProb(prob of marking a high risk black):  tensor(1.)\n",
      "whiteFalsePosProb(prob of marking a low risk white):  tensor(0.2830)\n",
      "blackFalsePosProb(prob of marking a low risk black):  tensor(0.8889)\n",
      "|P(R = 1 | A = 1, Y = 0) - P(R = 1 | A = 0, Y = 0)| =  0.6059061288833618\n",
      "|P(R = 1 | A = 1, Y = 1) - P(R = 1 | A = 0, Y = 1)| =  0.35641545057296753\n",
      "Does the model satisfy separation:  False\n"
     ]
    }
   ],
   "source": [
    "def falseaLossTrueLossSeparationHelper(model, data, labels, verbose=True):\n",
    "    data = pd.DataFrame(data.numpy())\n",
    "    labels = pd.DataFrame(labels.numpy())\n",
    "    raceIndex = 2\n",
    "    xd = data[raceIndex] < 0\n",
    "    dx = (labels == 1).squeeze()\n",
    "\n",
    "    whiteTrueData = data[(data[raceIndex] < 0) & (labels == 1).squeeze()]\n",
    "    whiteFalseData = data[(data[raceIndex] < 0) & (labels == 0).squeeze()]\n",
    "\n",
    "    blackTrueData = data[(data[raceIndex] > 0) & (labels == 1).squeeze()]\n",
    "    blackFalseData = data[(data[raceIndex] > 0) & (labels == 0).squeeze()]\n",
    "    \n",
    "    whiteTrueData = torch.tensor(whiteTrueData.values)\n",
    "    whiteFalseData = torch.tensor(whiteFalseData.values)\n",
    "    \n",
    "    blackTrueData = torch.tensor(blackTrueData.values)\n",
    "    blackFalseData = torch.tensor(blackFalseData.values)\n",
    "    \n",
    "    whiteTruePreds = model(whiteTrueData)\n",
    "    whiteFalsePreds = model(whiteFalseData)\n",
    "    \n",
    "    blackTruePreds = model(blackTrueData)\n",
    "    blackFalsePreds = model(blackFalseData)\n",
    "    \n",
    "    whiteTruePosProb = (torch.sum(whiteTruePreds.round())/len(whiteTrueData))\n",
    "    whiteFalsePosProb = (torch.sum(whiteFalsePreds.round())/len(whiteFalseData))\n",
    "    \n",
    "    blackTruePosProb = (torch.sum(blackTruePreds.round())/len(blackTrueData))\n",
    "    blackFalsePosProb = (torch.sum(blackFalsePreds.round())/len(blackFalseData))\n",
    "    \n",
    "    print (\"whiteTruePosProb(prob of marking a high risk white): \", whiteTruePosProb.detach())\n",
    "    print (\"blackTruePosProb(prob of marking a high risk black): \", blackTruePosProb.detach())\n",
    "\n",
    "    print (\"whiteFalsePosProb(prob of marking a low risk white): \", whiteFalsePosProb.detach())    \n",
    "    print (\"blackFalsePosProb(prob of marking a low risk black): \", blackFalsePosProb.detach())\n",
    "    \n",
    "    falseLoss = abs(whiteFalsePosProb - blackFalsePosProb)\n",
    "    trueLoss = abs(whiteTruePosProb - blackTruePosProb)\n",
    "    \n",
    "    # R = model output\n",
    "    # A = race (0 = white), (1 = black)\n",
    "    # Y = 0 (low risk), Y = 1 (high risk)\n",
    "    \n",
    "    if verbose:\n",
    "        print (\"|P(R = 1 | A = 1, Y = 0) - P(R = 1 | A = 0, Y = 0)| = \", falseLoss.item())\n",
    "        print (\"|P(R = 1 | A = 1, Y = 1) - P(R = 1 | A = 0, Y = 1)| = \", trueLoss.item())\n",
    "    return falseLoss, trueLoss\n",
    "    \n",
    "def maxSeparation(model, data, labels):\n",
    "    res = falseaLossTrueLossSeparationHelper(model, data, labels)\n",
    "    return max(res[0].item(), res[1].item())\n",
    "    \n",
    "def separation(model, data, labels):\n",
    "    maxSep = maxSeparation(model, data, labels)\n",
    "    eps = 0.05\n",
    "    return (maxSep < eps)\n",
    "\n",
    "def separationLoss(model, data, labels):\n",
    "    falseLoss, trueLoss = falseaLossTrueLossSeparationHelper(model, data, labels, verbose=False)\n",
    "    return falseLoss + trueLoss\n",
    "\n",
    "print (\"Does the model satisfy separation: \", separation(dnnmodel, test_x, test_y))"
   ]
  },
  {
   "cell_type": "code",
   "execution_count": 89,
   "id": "d78c3898",
   "metadata": {},
   "outputs": [],
   "source": [
    "# creating new dataset\n",
    "\n",
    "raceX = Data.drop(columns=['is_recid', 'race'])\n",
    "raceY = Data['race']\n",
    "\n",
    "racetrain_x, racetest_x, racetrain_y, racetest_y = train_test_split(raceX, raceY, test_size=0.2, random_state=137)\n",
    "\n",
    "scaler = sklearn.preprocessing.StandardScaler()\n",
    "racetrain_x = scaler.fit_transform(racetrain_x)\n",
    "racetest_x = scaler.transform(racetest_x)\n",
    "\n",
    "racetrain_x = torch.from_numpy(racetrain_x.astype(np.float32))\n",
    "racetest_x = torch.from_numpy(racetest_x.astype(np.float32))\n",
    "\n",
    "# Train_y is now a numpy object \n",
    "racetrain_y = list(racetrain_y)\n",
    "\n",
    "# train_y is now a torch object \n",
    "racetrain_y = torch.as_tensor(racetrain_y, dtype = torch.float32)\n",
    "racetest_y = torch.as_tensor(list(racetest_y), dtype=torch.float32)\n",
    "\n",
    "racetrain_y = racetrain_y.view(racetrain_y.shape[0],1)\n",
    "racetest_y = racetest_y.view(racetest_y.shape[0],1)\n",
    "\n",
    "n_samples,n_features=racetrain_x.shape\n"
   ]
  },
  {
   "cell_type": "code",
   "execution_count": 90,
   "id": "1ac56766",
   "metadata": {},
   "outputs": [
    {
     "name": "stdout",
     "output_type": "stream",
     "text": [
      "epoch 0\n",
      "Epoch: 0 \tTraining Loss: 0.662172 \tValidation Loss: 0.657780\n",
      "epoch 1\n",
      "Epoch: 1 \tTraining Loss: 0.647130 \tValidation Loss: 0.635640\n",
      "epoch 2\n",
      "Epoch: 2 \tTraining Loss: 0.629793 \tValidation Loss: 0.615608\n",
      "epoch 3\n",
      "Epoch: 3 \tTraining Loss: 0.619816 \tValidation Loss: 0.605378\n",
      "epoch 4\n",
      "Epoch: 4 \tTraining Loss: 0.614365 \tValidation Loss: 0.600376\n",
      "epoch 5\n",
      "Epoch: 5 \tTraining Loss: 0.613744 \tValidation Loss: 0.598186\n",
      "epoch 6\n",
      "Epoch: 6 \tTraining Loss: 0.613429 \tValidation Loss: 0.597366\n",
      "epoch 7\n",
      "Epoch: 7 \tTraining Loss: 0.612428 \tValidation Loss: 0.596677\n",
      "epoch 8\n",
      "Epoch: 8 \tTraining Loss: 0.611047 \tValidation Loss: 0.596244\n",
      "epoch 9\n",
      "Epoch: 9 \tTraining Loss: 0.610666 \tValidation Loss: 0.595857\n",
      "epoch 10\n",
      "Epoch: 10 \tTraining Loss: 0.610894 \tValidation Loss: 0.596420\n",
      "epoch 11\n",
      "Epoch: 11 \tTraining Loss: 0.610435 \tValidation Loss: 0.596298\n",
      "epoch 12\n",
      "Epoch: 12 \tTraining Loss: 0.610300 \tValidation Loss: 0.596019\n",
      "epoch 13\n",
      "Epoch: 13 \tTraining Loss: 0.610660 \tValidation Loss: 0.596547\n",
      "epoch 14\n",
      "Epoch: 14 \tTraining Loss: 0.609343 \tValidation Loss: 0.596256\n",
      "0.6799242496490479\n"
     ]
    }
   ],
   "source": [
    "from copy import deepcopy\n",
    "\n",
    "batch_size = 10\n",
    "raceTrainData = Dataset(racetrain_x, racetrain_y)\n",
    "raceTrainDataLoader = torch.utils.data.DataLoader(raceTrainData, shuffle=True, batch_size=batch_size)\n",
    "raceTestData = Dataset(racetest_x, racetest_y)\n",
    "raceTestDataLoader = torch.utils.data.DataLoader(raceTestData, shuffle=True, batch_size=batch_size)\n",
    "\n",
    "\n",
    "'''for child in dnnmodel.seq.children():\n",
    "    for param in child.parameters():\n",
    "        print (param)'''\n",
    "\n",
    "savedModel = deepcopy(dnnmodel)\n",
    "\n",
    "class RaceDNNModel(torch.nn.Module):\n",
    "    def __init__(self, savedModel):\n",
    "        super(RaceDNNModel,self).__init__()\n",
    "        self.seq = savedModel.seq\n",
    "        \n",
    "        self.racelayer1 = torch.nn.Linear(20,20)\n",
    "        self.racelayer2 = torch.nn.Linear(20,20)\n",
    "        self.racelayer3 = torch.nn.Linear(20,1)\n",
    "            \n",
    "        self.sigmoid = torch.nn.Sigmoid()\n",
    "        self.relu = torch.nn.ReLU()\n",
    "        \n",
    "        self.raceseq = torch.nn.Sequential(\n",
    "            self.racelayer1,\n",
    "            self.relu,\n",
    "            self.racelayer2,\n",
    "            self.relu,\n",
    "            self.racelayer3,\n",
    "            self.sigmoid\n",
    "        )\n",
    "        \n",
    "        \n",
    "        for child in self.seq.children():\n",
    "            for param in child.parameters():\n",
    "                #print (param)\n",
    "                param.requires_grad = False\n",
    "\n",
    "        self.seq.eval()\n",
    "    \n",
    "    def forward(self, x):\n",
    "        return self.raceseq(self.seq(x))\n",
    "        \n",
    "racednnmodel = RaceDNNModel(savedModel)\n",
    "\n",
    "racednnepochs = 15\n",
    "racednnlr = 1e-4\n",
    "def BCELoss_class_weighted(weights):\n",
    "    def loss(input, target):\n",
    "        input = torch.clamp(input,min=1e-7,max=1-1e-7)\n",
    "        bce = - weights[1] * target * torch.log(input) - (1 - target) * weights[0] * torch.log(1 - input)\n",
    "        return torch.mean(bce)\n",
    "    return loss\n",
    "\n",
    "\n",
    "criterion = BCELoss_class_weighted(weights = [2*race0weight, 2*race1weight])\n",
    "racednnoptimizer = torch.optim.Adam([param for param in racednnmodel.parameters() if param.requires_grad == True], lr=racednnlr, weight_decay = 1e-5)\n",
    "for epoch in range(racednnepochs):\n",
    "    #print (\"hey\")\n",
    "    print (\"epoch\", epoch)\n",
    "    train(epoch, racednnmodel, raceTrainDataLoader, racednnoptimizer, criterion, raceTestDataLoader)\n",
    "\n",
    "accuracy(racednnmodel, racetest_x)\n",
    "torch.save(racednnmodel, \"racednnmodel.pt\")\n",
    "\n",
    "        \n",
    "    \n",
    "\n",
    "\n",
    "\n",
    "\n"
   ]
  },
  {
   "cell_type": "code",
   "execution_count": 75,
   "id": "df094dd4",
   "metadata": {},
   "outputs": [],
   "source": [
    "torch.set_printoptions(profile=\"full\")\n",
    "#print(racednnmodel.forward(test_x).detach().round())\n",
    "\n",
    "#print (test_y)"
   ]
  },
  {
   "cell_type": "code",
   "execution_count": null,
   "id": "c1425e97",
   "metadata": {},
   "outputs": [],
   "source": []
  }
 ],
 "metadata": {
  "colab": {
   "provenance": []
  },
  "kernelspec": {
   "display_name": "Python 3 (ipykernel)",
   "language": "python",
   "name": "python3"
  },
  "language_info": {
   "codemirror_mode": {
    "name": "ipython",
    "version": 3
   },
   "file_extension": ".py",
   "mimetype": "text/x-python",
   "name": "python",
   "nbconvert_exporter": "python",
   "pygments_lexer": "ipython3",
   "version": "3.9.9"
  }
 },
 "nbformat": 4,
 "nbformat_minor": 5
}
