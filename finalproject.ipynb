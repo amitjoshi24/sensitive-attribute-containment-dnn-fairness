{
 "cells": [
  {
   "cell_type": "markdown",
   "id": "5c648555",
   "metadata": {
    "id": "5c648555"
   },
   "source": [
    "# CS 378 Homework 3: The Science of Fairness (100 pts)"
   ]
  },
  {
   "cell_type": "markdown",
   "id": "34bbdc4a",
   "metadata": {
    "id": "34bbdc4a"
   },
   "source": [
    "## Deadline: 11:59 pm, October 13, 2022"
   ]
  },
  {
   "cell_type": "markdown",
   "id": "70641ec9",
   "metadata": {
    "id": "70641ec9"
   },
   "source": [
    "This assignment has three parts. In the first part, you will perform an analysis of fairness on the COMPAS dataset that you previously encountered in Assignment 1. The second and third parts consist of theoretical questions about fairness criteria and causality. "
   ]
  },
  {
   "cell_type": "markdown",
   "id": "90f0d93b",
   "metadata": {
    "id": "90f0d93b"
   },
   "source": [
    "\n",
    "## Part 1: Further analysis of the COMPAS dataset"
   ]
  },
  {
   "cell_type": "markdown",
   "id": "8021f3bf",
   "metadata": {
    "id": "8021f3bf"
   },
   "source": [
    "### Prelude"
   ]
  },
  {
   "cell_type": "markdown",
   "id": "c5165173",
   "metadata": {
    "id": "c5165173"
   },
   "source": [
    "Here is the code for loading and cleaning up the dataset."
   ]
  },
  {
   "cell_type": "code",
   "execution_count": 17,
   "id": "3552be37",
   "metadata": {
    "id": "3552be37"
   },
   "outputs": [
    {
     "data": {
      "text/html": [
       "<div>\n",
       "<style scoped>\n",
       "    .dataframe tbody tr th:only-of-type {\n",
       "        vertical-align: middle;\n",
       "    }\n",
       "\n",
       "    .dataframe tbody tr th {\n",
       "        vertical-align: top;\n",
       "    }\n",
       "\n",
       "    .dataframe thead th {\n",
       "        text-align: right;\n",
       "    }\n",
       "</style>\n",
       "<table border=\"1\" class=\"dataframe\">\n",
       "  <thead>\n",
       "    <tr style=\"text-align: right;\">\n",
       "      <th></th>\n",
       "      <th>Age</th>\n",
       "      <th>Sex</th>\n",
       "      <th>Job</th>\n",
       "      <th>Housing</th>\n",
       "      <th>Saving accounts</th>\n",
       "      <th>Checking account</th>\n",
       "      <th>Credit amount</th>\n",
       "      <th>Duration</th>\n",
       "      <th>Purpose</th>\n",
       "      <th>Risk</th>\n",
       "    </tr>\n",
       "  </thead>\n",
       "  <tbody>\n",
       "    <tr>\n",
       "      <th>0</th>\n",
       "      <td>67</td>\n",
       "      <td>0.0</td>\n",
       "      <td>2</td>\n",
       "      <td>0.0</td>\n",
       "      <td>0.456548</td>\n",
       "      <td>0.000000</td>\n",
       "      <td>1169</td>\n",
       "      <td>6</td>\n",
       "      <td>0.0</td>\n",
       "      <td>0.0</td>\n",
       "    </tr>\n",
       "    <tr>\n",
       "      <th>1</th>\n",
       "      <td>22</td>\n",
       "      <td>1.0</td>\n",
       "      <td>2</td>\n",
       "      <td>0.0</td>\n",
       "      <td>0.000000</td>\n",
       "      <td>1.000000</td>\n",
       "      <td>5951</td>\n",
       "      <td>48</td>\n",
       "      <td>0.0</td>\n",
       "      <td>1.0</td>\n",
       "    </tr>\n",
       "    <tr>\n",
       "      <th>2</th>\n",
       "      <td>49</td>\n",
       "      <td>0.0</td>\n",
       "      <td>1</td>\n",
       "      <td>0.0</td>\n",
       "      <td>0.000000</td>\n",
       "      <td>0.651815</td>\n",
       "      <td>2096</td>\n",
       "      <td>12</td>\n",
       "      <td>1.0</td>\n",
       "      <td>0.0</td>\n",
       "    </tr>\n",
       "    <tr>\n",
       "      <th>3</th>\n",
       "      <td>45</td>\n",
       "      <td>0.0</td>\n",
       "      <td>2</td>\n",
       "      <td>1.0</td>\n",
       "      <td>0.000000</td>\n",
       "      <td>0.000000</td>\n",
       "      <td>7882</td>\n",
       "      <td>42</td>\n",
       "      <td>2.0</td>\n",
       "      <td>0.0</td>\n",
       "    </tr>\n",
       "    <tr>\n",
       "      <th>4</th>\n",
       "      <td>53</td>\n",
       "      <td>0.0</td>\n",
       "      <td>2</td>\n",
       "      <td>1.0</td>\n",
       "      <td>0.000000</td>\n",
       "      <td>0.000000</td>\n",
       "      <td>4870</td>\n",
       "      <td>24</td>\n",
       "      <td>3.0</td>\n",
       "      <td>1.0</td>\n",
       "    </tr>\n",
       "    <tr>\n",
       "      <th>5</th>\n",
       "      <td>35</td>\n",
       "      <td>0.0</td>\n",
       "      <td>1</td>\n",
       "      <td>1.0</td>\n",
       "      <td>0.456548</td>\n",
       "      <td>0.651815</td>\n",
       "      <td>9055</td>\n",
       "      <td>36</td>\n",
       "      <td>1.0</td>\n",
       "      <td>0.0</td>\n",
       "    </tr>\n",
       "    <tr>\n",
       "      <th>6</th>\n",
       "      <td>53</td>\n",
       "      <td>0.0</td>\n",
       "      <td>2</td>\n",
       "      <td>0.0</td>\n",
       "      <td>2.000000</td>\n",
       "      <td>0.651815</td>\n",
       "      <td>2835</td>\n",
       "      <td>24</td>\n",
       "      <td>2.0</td>\n",
       "      <td>0.0</td>\n",
       "    </tr>\n",
       "    <tr>\n",
       "      <th>7</th>\n",
       "      <td>35</td>\n",
       "      <td>0.0</td>\n",
       "      <td>3</td>\n",
       "      <td>2.0</td>\n",
       "      <td>0.000000</td>\n",
       "      <td>1.000000</td>\n",
       "      <td>6948</td>\n",
       "      <td>36</td>\n",
       "      <td>3.0</td>\n",
       "      <td>0.0</td>\n",
       "    </tr>\n",
       "    <tr>\n",
       "      <th>8</th>\n",
       "      <td>61</td>\n",
       "      <td>0.0</td>\n",
       "      <td>1</td>\n",
       "      <td>0.0</td>\n",
       "      <td>3.000000</td>\n",
       "      <td>0.651815</td>\n",
       "      <td>3059</td>\n",
       "      <td>12</td>\n",
       "      <td>0.0</td>\n",
       "      <td>0.0</td>\n",
       "    </tr>\n",
       "    <tr>\n",
       "      <th>9</th>\n",
       "      <td>28</td>\n",
       "      <td>0.0</td>\n",
       "      <td>3</td>\n",
       "      <td>0.0</td>\n",
       "      <td>0.000000</td>\n",
       "      <td>1.000000</td>\n",
       "      <td>5234</td>\n",
       "      <td>30</td>\n",
       "      <td>3.0</td>\n",
       "      <td>1.0</td>\n",
       "    </tr>\n",
       "  </tbody>\n",
       "</table>\n",
       "</div>"
      ],
      "text/plain": [
       "   Age  Sex  Job  Housing  Saving accounts  Checking account  Credit amount  \\\n",
       "0   67  0.0    2      0.0         0.456548          0.000000           1169   \n",
       "1   22  1.0    2      0.0         0.000000          1.000000           5951   \n",
       "2   49  0.0    1      0.0         0.000000          0.651815           2096   \n",
       "3   45  0.0    2      1.0         0.000000          0.000000           7882   \n",
       "4   53  0.0    2      1.0         0.000000          0.000000           4870   \n",
       "5   35  0.0    1      1.0         0.456548          0.651815           9055   \n",
       "6   53  0.0    2      0.0         2.000000          0.651815           2835   \n",
       "7   35  0.0    3      2.0         0.000000          1.000000           6948   \n",
       "8   61  0.0    1      0.0         3.000000          0.651815           3059   \n",
       "9   28  0.0    3      0.0         0.000000          1.000000           5234   \n",
       "\n",
       "   Duration  Purpose  Risk  \n",
       "0         6      0.0   0.0  \n",
       "1        48      0.0   1.0  \n",
       "2        12      1.0   0.0  \n",
       "3        42      2.0   0.0  \n",
       "4        24      3.0   1.0  \n",
       "5        36      1.0   0.0  \n",
       "6        24      2.0   0.0  \n",
       "7        36      3.0   0.0  \n",
       "8        12      0.0   0.0  \n",
       "9        30      3.0   1.0  "
      ]
     },
     "execution_count": 17,
     "metadata": {},
     "output_type": "execute_result"
    }
   ],
   "source": [
    "import pandas as pd\n",
    "import matplotlib.pyplot as plt\n",
    "import seaborn as sns\n",
    "%matplotlib inline\n",
    "\n",
    "Data = pd.read_csv(\"german_credit_data.csv\")\n",
    "#print (Data.columns)\n",
    "\n",
    "Data['Saving accounts'] = Data['Saving accounts'].map({\"little\":0,\"moderate\":1,\"quite rich\":2 ,\"rich\":3 });\n",
    "Data['Saving accounts'] = Data['Saving accounts'].fillna(Data['Saving accounts'].dropna().mean())\n",
    "\n",
    "Data['Checking account'] = Data['Checking account'].map({\"little\":0,\"moderate\":1,\"rich\":2 });\n",
    "Data['Checking account'] = Data['Checking account'].fillna(Data['Checking account'].dropna().mean())\n",
    "\n",
    "Data['Sex'] = Data['Sex'].map({\"male\":0,\"female\":1}).astype(float)\n",
    "\n",
    "Data['Housing'] = Data['Housing'].map({\"own\":0,\"free\":1,\"rent\":2}).astype(float)\n",
    "\n",
    "Data['Purpose'] = Data['Purpose'].map({'radio/TV':0, 'education':1, 'furniture/equipment':2, 'car':3, 'business':4,\n",
    "       'domestic appliances':5, 'repairs':6, 'vacation/others':7}).astype(float)\n",
    "\n",
    "Data['Risk'] = Data['Risk'].map({\"good\":0,\"bad\":1}).astype(float)\n",
    "Data = Data.drop(columns=['Unnamed: 0'])\n",
    "#print (Data.columns)\n",
    "#Data.head(10)\n",
    "#Data.drop('Unnamed: 0')\n",
    "Data.head(10)"
   ]
  },
  {
   "cell_type": "markdown",
   "id": "2dc649e6",
   "metadata": {
    "id": "2dc649e6"
   },
   "source": [
    "And here is the code for performing a train-test split, training a logistic regression model, and computing the test accuracy."
   ]
  },
  {
   "cell_type": "code",
   "execution_count": 83,
   "id": "d6686ba1",
   "metadata": {
    "id": "d6686ba1"
   },
   "outputs": [],
   "source": [
    "X = Data.drop(columns=['Risk', \"Sex\"])\n",
    "Y = Data['Risk']\n",
    "\n",
    "from sklearn.model_selection import train_test_split\n",
    "\n",
    "train_x, test_x, train_y, test_y = train_test_split(X, Y, test_size=0.2, random_state=137)\n",
    "\n",
    "tempX = Data.drop(columns=[\"Risk\"])\n",
    "tempY = Data['Risk']\n",
    "\n",
    "temptrain_x, temptest_x, temptrain_y, temptest_y = train_test_split(tempX, tempY, test_size=0.2, random_state=137)\n",
    "\n",
    "# FEMALES ARE 0\n",
    "# MALES ARE 1\n",
    "\n",
    "test_x_male = test_x[temptest_x['Sex'] == 1]\n",
    "test_y_male = test_y[temptest_x['Sex'] == 1]\n",
    "\n",
    "test_x_female = test_x[temptest_x['Sex'] == 0]\n",
    "test_y_female = test_y[temptest_x['Sex'] == 0]\n",
    "\n",
    "\n",
    "\n",
    "\n"
   ]
  },
  {
   "cell_type": "code",
   "execution_count": 84,
   "id": "83b58c3e",
   "metadata": {},
   "outputs": [],
   "source": [
    "# Getting low risk/high risk data\n",
    "\n",
    "test_x_male_lowrisk = test_x_male[test_y_male == 0]\n",
    "test_y_male_lowrisk = test_y_male[test_y_male == 0]\n",
    "\n",
    "test_x_male_highrisk = test_x_male[test_y_male == 1]\n",
    "test_y_male_highrisk = test_y_male[test_y_male == 1]\n",
    "\n",
    "test_x_female_lowrisk = test_x_female[test_y_female == 0]\n",
    "test_y_female_lowrisk = test_y_female[test_y_female == 0]\n",
    "\n",
    "test_x_female_highrisk = test_x_female[test_y_female == 1]\n",
    "test_y_female_highrisk = test_y_female[test_y_female == 1]"
   ]
  },
  {
   "cell_type": "code",
   "execution_count": 85,
   "id": "2e5c295e",
   "metadata": {},
   "outputs": [],
   "source": [
    "class Dataset(torch.utils.data.Dataset):\n",
    "    \n",
    "    # Create Torch Dataset object.\n",
    "    def __init__(self, X, Y):\n",
    "\n",
    "        #X = X.reshape((-1, 1, 64, 64))  \n",
    "        #self.X = torch.from_numpy(X)\n",
    "        #self.Y = torch.from_numpy(Y)\n",
    "        self.X = X\n",
    "        self.Y = Y\n",
    "        \n",
    "    def __len__(self):\n",
    "        return len(self.Y)\n",
    "\n",
    "    def __getitem__(self, index):\n",
    "        X = self.X[index]\n",
    "        Y = self.Y[index]\n",
    "\n",
    "        return {'X': X, 'Y': Y}"
   ]
  },
  {
   "cell_type": "code",
   "execution_count": 86,
   "id": "99da0fdf",
   "metadata": {},
   "outputs": [],
   "source": [
    "def train(epoch, net, trainDataLoader, optimizer, criterion, validDataLoader):\n",
    "    net.train()\n",
    "    train_loss = 0\n",
    "    for sample in trainDataLoader:\n",
    "        inputs, targets = sample['X'], sample['Y']\n",
    "        #print (inputs, targets)\n",
    "        optimizer.zero_grad()\n",
    "        outputs = net.forward(inputs)\n",
    "        #print (\"outputs/targets\", outputs, targets)\n",
    "        loss = criterion(outputs, targets)\n",
    "        loss.backward()\n",
    "        optimizer.step()\n",
    "        train_loss += loss.item() * batch_size\n",
    "\n",
    "    net.eval()\n",
    "    valid_loss = 0\n",
    "    for sample in validDataLoader:\n",
    "        inputs, targets = sample['X'], sample['Y']\n",
    "        outputs = net(inputs)\n",
    "        loss = criterion(outputs, targets)\n",
    "        valid_loss += loss.item() * batch_size\n",
    "\n",
    "    # calculate average losses\n",
    "    train_loss = train_loss/len(trainDataLoader.sampler)\n",
    "    valid_loss = valid_loss/len(validDataLoader.sampler)\n",
    "\n",
    "    if epoch % 1 == 0:\n",
    "        print('Epoch: {} \\tTraining Loss: {:.6f} \\tValidation Loss: {:.6f}'.format(epoch, train_loss, valid_loss))\n",
    "    return train_loss, valid_loss\n"
   ]
  },
  {
   "cell_type": "code",
   "execution_count": 87,
   "id": "2816f10d",
   "metadata": {},
   "outputs": [],
   "source": [
    "import torch\n",
    "from torch.autograd import Variable\n",
    "import sklearn\n",
    "import numpy as np\n",
    "\n",
    "scaler = sklearn.preprocessing.StandardScaler()\n",
    "train_x = scaler.fit_transform(train_x)\n",
    "test_x = scaler.transform(test_x)\n",
    "test_x_male = scaler.transform(test_x_male)\n",
    "test_x_female = scaler.transform(test_x_female)\n",
    "test_x_male_highrisk = scaler.transform(test_x_male_highrisk)\n",
    "test_x_male_lowrisk = scaler.transform(test_x_male_lowrisk)\n",
    "test_x_female_highrisk = scaler.transform(test_x_female_highrisk)\n",
    "test_x_female_lowrisk = scaler.transform(test_x_female_lowrisk)\n",
    "\n",
    "train_x = torch.from_numpy(train_x.astype(np.float32))\n",
    "test_x = torch.from_numpy(test_x.astype(np.float32))\n",
    "test_x_male = torch.from_numpy(test_x_male.astype(np.float32))\n",
    "test_x_female = torch.from_numpy(test_x_female.astype(np.float32))\n",
    "test_x_male_highrisk = torch.from_numpy(test_x_male_highrisk.astype(np.float32))\n",
    "test_x_male_lowrisk = torch.from_numpy(test_x_male_lowrisk.astype(np.float32))\n",
    "test_x_female_highrisk = torch.from_numpy(test_x_female_highrisk.astype(np.float32))\n",
    "test_x_female_lowrisk = torch.from_numpy(test_x_female_lowrisk.astype(np.float32))\n",
    "\n",
    "\n",
    "\n",
    "# Train_y is now a numpy object \n",
    "train_y = list(train_y)\n",
    "\n",
    "# train_y is now a torch object \n",
    "train_y = torch.as_tensor(train_y, dtype = torch.float32)\n",
    "test_y = torch.as_tensor(list(test_y), dtype=torch.float32)\n",
    "test_y_male = torch.as_tensor(list(test_y_male), dtype=torch.float32)\n",
    "test_y_female = torch.as_tensor(list(test_y_female), dtype=torch.float32)\n",
    "test_y_male_highrisk = torch.as_tensor(list(test_y_male_highrisk), dtype=torch.float32)\n",
    "test_y_male_lowrisk = torch.as_tensor(list(test_y_male_lowrisk), dtype=torch.float32)\n",
    "test_y_female_highrisk = torch.as_tensor(list(test_y_female_highrisk), dtype=torch.float32)\n",
    "test_y_female_lowrisk = torch.as_tensor(list(test_y_female_lowrisk), dtype=torch.float32)\n",
    "\n",
    "\n",
    "train_y = train_y.view(train_y.shape[0],1)\n",
    "test_y = test_y.view(test_y.shape[0],1)\n",
    "test_y_male = test_y_male.view(test_y_male.shape[0],1)\n",
    "test_y_female = test_y_female.view(test_y_female.shape[0],1)\n",
    "test_y_male_highrisk = test_y_male_highrisk.view(test_y_male_highrisk.shape[0],1)\n",
    "test_y_male_lowrisk = test_y_male_lowrisk.view(test_y_male_lowrisk.shape[0],1)\n",
    "test_y_female_highrisk = test_y_female_highrisk.view(test_y_female_highrisk.shape[0],1)\n",
    "test_y_female_lowrisk = test_y_female_lowrisk.view(test_y_female_lowrisk.shape[0],1)\n",
    "\n",
    "n_samples,n_features=train_x.shape"
   ]
  },
  {
   "cell_type": "code",
   "execution_count": 88,
   "id": "50ac4fbb",
   "metadata": {},
   "outputs": [],
   "source": [
    "def accuracy(model, test_x):\n",
    "    model.eval()\n",
    "    with torch.no_grad():\n",
    "     y_pred=model(test_x)\n",
    "     y_pred_class=y_pred.round()\n",
    "     accuracy=(y_pred_class.eq(test_y).sum())/float(test_y.shape[0])\n",
    "     print(accuracy.item())"
   ]
  },
  {
   "cell_type": "code",
   "execution_count": 30,
   "id": "6715840b",
   "metadata": {
    "id": "6715840b"
   },
   "outputs": [
    {
     "name": "stdout",
     "output_type": "stream",
     "text": [
      "torch.Size([800, 8])\n",
      "<class 'torch.Tensor'>\n",
      "800\n",
      "epoch 0\n",
      "Epoch: 0 \tTraining Loss: 0.632156 \tValidation Loss: 0.582684\n",
      "epoch 1\n",
      "Epoch: 1 \tTraining Loss: 0.575806 \tValidation Loss: 0.552756\n",
      "epoch 2\n",
      "Epoch: 2 \tTraining Loss: 0.563517 \tValidation Loss: 0.552686\n",
      "epoch 3\n",
      "Epoch: 3 \tTraining Loss: 0.557523 \tValidation Loss: 0.532730\n",
      "epoch 4\n",
      "Epoch: 4 \tTraining Loss: 0.550706 \tValidation Loss: 0.539874\n",
      "epoch 5\n",
      "Epoch: 5 \tTraining Loss: 0.539242 \tValidation Loss: 0.530261\n",
      "epoch 6\n",
      "Epoch: 6 \tTraining Loss: 0.534988 \tValidation Loss: 0.538419\n",
      "epoch 7\n",
      "Epoch: 7 \tTraining Loss: 0.530771 \tValidation Loss: 0.541491\n",
      "epoch 8\n",
      "Epoch: 8 \tTraining Loss: 0.527332 \tValidation Loss: 0.543059\n",
      "epoch 9\n",
      "Epoch: 9 \tTraining Loss: 0.522136 \tValidation Loss: 0.533534\n",
      "epoch 10\n",
      "Epoch: 10 \tTraining Loss: 0.518392 \tValidation Loss: 0.540284\n",
      "epoch 11\n",
      "Epoch: 11 \tTraining Loss: 0.513281 \tValidation Loss: 0.539385\n",
      "epoch 12\n",
      "Epoch: 12 \tTraining Loss: 0.511802 \tValidation Loss: 0.535096\n",
      "epoch 13\n",
      "Epoch: 13 \tTraining Loss: 0.503295 \tValidation Loss: 0.539286\n",
      "epoch 14\n",
      "Epoch: 14 \tTraining Loss: 0.498377 \tValidation Loss: 0.539669\n"
     ]
    }
   ],
   "source": [
    "# YOUR CODE HERE\n",
    "\n",
    "import torch\n",
    "from torch.autograd import Variable\n",
    "\n",
    "\n",
    "class DNN_model(torch.nn.Module):\n",
    " def __init__(self,no_input_features):\n",
    "    super(DNN_model,self).__init__()\n",
    "    self.layer1 = torch.nn.Linear(no_input_features,20)\n",
    "    self.layer2 = torch.nn.Linear(20,20)\n",
    "    self.layer3 = torch.nn.Linear(20,20)\n",
    "    self.layer4 = torch.nn.Linear(20,20)\n",
    "    self.layer5 = torch.nn.Linear(20,1)\n",
    "    \n",
    "    self.relu = torch.nn.ReLU()\n",
    "    self.sigmoid = torch.nn.Sigmoid()\n",
    "        \n",
    "    self.seq = torch.nn.Sequential(\n",
    "        self.layer1,\n",
    "        self.relu,\n",
    "        self.layer2,\n",
    "        self.relu,\n",
    "        self.layer3,\n",
    "        self.relu,\n",
    "        self.layer4,\n",
    "        self.relu,\n",
    "        self.layer5,\n",
    "        self.sigmoid\n",
    "    )\n",
    "\n",
    " def forward(self,x):\n",
    "    # YOUR ANSWER HERE\n",
    "    return self.seq(x)\n",
    "\n",
    "print(train_x.shape)\n",
    "print (type(train_x))\n",
    "\n",
    "batch_size = 1\n",
    "trainSignData = Dataset(train_x, train_y)\n",
    "print (len(trainSignData))\n",
    "trainDataLoader = torch.utils.data.DataLoader(trainSignData, shuffle=True, batch_size=batch_size)\n",
    "testSignData = Dataset(test_x, test_y)\n",
    "testDataLoader = torch.utils.data.DataLoader(testSignData, shuffle=True, batch_size=batch_size)\n",
    "\n",
    "dnnmodel = DNN_model(8)\n",
    "dnnepochs = 15\n",
    "dnnlr = 5e-4\n",
    "criterion = torch.nn.BCELoss()\n",
    "dnnoptimizer = torch.optim.Adam(dnnmodel.parameters(), lr=dnnlr, weight_decay=1e-5)\n",
    "for epoch in range(dnnepochs):\n",
    "    #print (\"hey\")\n",
    "    print (\"epoch\", epoch)\n",
    "    train(epoch, dnnmodel, trainDataLoader, dnnoptimizer, criterion, testDataLoader)\n",
    "\n",
    "torch.save(dnnmodel, \"dnnmodel.pt\")"
   ]
  },
  {
   "cell_type": "code",
   "execution_count": 31,
   "id": "c5f0c19d",
   "metadata": {},
   "outputs": [
    {
     "name": "stdout",
     "output_type": "stream",
     "text": [
      "0.7149999737739563\n"
     ]
    }
   ],
   "source": [
    "accuracy(dnnmodel, test_x)"
   ]
  },
  {
   "cell_type": "markdown",
   "id": "92e66102",
   "metadata": {
    "id": "92e66102"
   },
   "source": [
    "#### Q4: Show the ROC curves for the black and white subgroups, and plot the points corresponding to the different strategies clearly identified. The resulting curve should look like the ROC curve in the FICO score case study that was discussed in class.  (5 points)"
   ]
  },
  {
   "cell_type": "code",
   "execution_count": 89,
   "id": "046a146e",
   "metadata": {
    "id": "046a146e",
    "scrolled": true
   },
   "outputs": [
    {
     "data": {
      "text/plain": [
       "<matplotlib.legend.Legend at 0x15590c700>"
      ]
     },
     "execution_count": 89,
     "metadata": {},
     "output_type": "execute_result"
    },
    {
     "data": {
      "image/png": "[encoded data removed]",
      "text/plain": [
       "<Figure size 600x400 with 1 Axes>"
      ]
     },
     "metadata": {
      "needs_background": "light"
     },
     "output_type": "display_data"
    }
   ],
   "source": [
    "import matplotlib.pyplot as plt\n",
    "from sklearn import metrics\n",
    "\n",
    "from matplotlib.pyplot import figure\n",
    "\n",
    "fig, ax = plt.subplots(figsize=(6, 4), dpi=100)\n",
    "\n",
    "malePreds = dnnmodel(test_x_male).detach()\n",
    "femalePreds = dnnmodel(test_x_female).detach()\n",
    "\n",
    "fpr_m, tpr_m, thresholds_m = metrics.roc_curve(test_y_male, malePreds)\n",
    "auc = metrics.roc_auc_score(test_y_male, malePreds)\n",
    "plt.plot(fpr_m,tpr_m,label=\"ROC Curve - Male, auc=\"+str(auc))\n",
    "\n",
    "fpr_f, tpr_f, thresholds_f = metrics.roc_curve(test_y_female, femalePreds)\n",
    "auc = metrics.roc_auc_score(test_y_female, femalePreds)\n",
    "plt.plot(fpr_f,tpr_f,label=\"ROC Curve - Female, auc=\"+str(auc))\n",
    "\n",
    "# lr_prediction_black_threshold = lr_prediction_black.applymap(lambda x: 1 if x > minBlackThreshold else 0)\n",
    "# lr_prediction_white_threshold = lr_prediction_white.applymap(lambda x: 1 if x > minWhiteThreshold else 0)\n",
    "\n",
    "\n",
    "# ax.scatter(bfp/(bfp + btn), btp/(btp + bfn), c='black', marker='^', s=100, label='Max Profit Black')\n",
    "# ax.scatter(wfp/(wfp + wtn), wtp/(wtp + wfn), c='green', marker='^', s= 100, label=\"Max Profit White\")\n",
    "\n",
    "plt.legend(loc=0, bbox_to_anchor=(1,1))"
   ]
  },
  {
   "cell_type": "markdown",
   "id": "73297eb4",
   "metadata": {
    "id": "73297eb4"
   },
   "source": [
    "#### Q5: (i) Do a calibration plot that plots the fraction of defendants recidividating within two years as a function of the predicted probability of recidivism, for black defendants and white defendants. (ii) Comment (in a couple of sentences) if you believe that the score satisfies sufficiency across racial groups.      (5 points)"
   ]
  },
  {
   "cell_type": "code",
   "execution_count": 90,
   "id": "0915dc43",
   "metadata": {
    "id": "0915dc43"
   },
   "outputs": [
    {
     "data": {
      "image/png": "[encoded data removed]",
      "text/plain": [
       "<Figure size 432x288 with 1 Axes>"
      ]
     },
     "metadata": {
      "needs_background": "light"
     },
     "output_type": "display_data"
    }
   ],
   "source": [
    "# YOUR CODE HERE \n",
    "from sklearn.calibration import calibration_curve\n",
    "y_m, x_m = calibration_curve(\n",
    "    test_y_male, \n",
    "    malePreds, \n",
    "    n_bins=10)\n",
    "\n",
    "y_f, x_f = calibration_curve(\n",
    "    test_y_female, \n",
    "    femalePreds, \n",
    "    n_bins=10)\n",
    "\n",
    "\n",
    "fig, ax = plt.subplots()\n",
    "\n",
    "plt.plot(x_m, y_m, color='blue', \n",
    "         marker='*', \n",
    "         linewidth = 2, \n",
    "         label='Male')\n",
    "\n",
    "plt.plot(x_f, y_f, color='red', \n",
    "         marker='.', \n",
    "         linewidth = 2, \n",
    "         label='Female')\n",
    "\n",
    "# # reference line, legends, and axis labels\n",
    "ax.set_xlabel('DNN Score Assigned For Credit Risk')\n",
    "ax.set_ylabel('True Credit Risk')\n",
    "fig.suptitle('DNN Credit Risk output vs True Credit Risk')\n",
    "plt.legend()\n",
    "plt.show()\n",
    "\n"
   ]
  },
  {
   "cell_type": "markdown",
   "id": "117130a4",
   "metadata": {},
   "source": [
    "Being sufficient means $Y \\perp A \\mid R$.  Sufficiency doesn't hold here, as females are getting predicted to have higher credit risk even when their true credit risk isn't as high (the lines don't match up).  So, females are getting discriminated against."
   ]
  },
  {
   "cell_type": "markdown",
   "id": "0fa49149",
   "metadata": {
    "id": "0fa49149"
   },
   "source": [
    "#### Q6: (i) Plot the distributions of scores received by the positive class (recidivists) and the distribution of scores received by the negative class (non-recidivists) for black and white defendants. (ii) Based on these plots, comment (in a couple of sentences) if this score satisfies separation.  (5 points)"
   ]
  },
  {
   "cell_type": "code",
   "execution_count": 91,
   "id": "1689c4d5",
   "metadata": {
    "id": "1689c4d5"
   },
   "outputs": [
    {
     "name": "stderr",
     "output_type": "stream",
     "text": [
      "/var/folders/3k/nhgpsd_x0y5111nl043x8tgh0000gn/T/ipykernel_25624/3404279966.py:13: UserWarning: \n",
      "\n",
      "`distplot` is a deprecated function and will be removed in seaborn v0.14.0.\n",
      "\n",
      "Please adapt your code to use either `displot` (a figure-level function with\n",
      "similar flexibility) or `histplot` (an axes-level function for histograms).\n",
      "\n",
      "For a guide to updating your code to use the new functions, please see\n",
      "https://gist.github.com/mwaskom/de44147ed2974457ad6372750bbe5751\n",
      "\n",
      "  sns.distplot(femaleLowRiskPreds,\n",
      "/var/folders/3k/nhgpsd_x0y5111nl043x8tgh0000gn/T/ipykernel_25624/3404279966.py:16: UserWarning: \n",
      "\n",
      "`distplot` is a deprecated function and will be removed in seaborn v0.14.0.\n",
      "\n",
      "Please adapt your code to use either `displot` (a figure-level function with\n",
      "similar flexibility) or `histplot` (an axes-level function for histograms).\n",
      "\n",
      "For a guide to updating your code to use the new functions, please see\n",
      "https://gist.github.com/mwaskom/de44147ed2974457ad6372750bbe5751\n",
      "\n",
      "  sns.distplot(maleLowRiskPreds,\n",
      "/var/folders/3k/nhgpsd_x0y5111nl043x8tgh0000gn/T/ipykernel_25624/3404279966.py:22: UserWarning: \n",
      "\n",
      "`distplot` is a deprecated function and will be removed in seaborn v0.14.0.\n",
      "\n",
      "Please adapt your code to use either `displot` (a figure-level function with\n",
      "similar flexibility) or `histplot` (an axes-level function for histograms).\n",
      "\n",
      "For a guide to updating your code to use the new functions, please see\n",
      "https://gist.github.com/mwaskom/de44147ed2974457ad6372750bbe5751\n",
      "\n",
      "  sns.distplot(femaleHighRiskPreds,\n",
      "/var/folders/3k/nhgpsd_x0y5111nl043x8tgh0000gn/T/ipykernel_25624/3404279966.py:25: UserWarning: \n",
      "\n",
      "`distplot` is a deprecated function and will be removed in seaborn v0.14.0.\n",
      "\n",
      "Please adapt your code to use either `displot` (a figure-level function with\n",
      "similar flexibility) or `histplot` (an axes-level function for histograms).\n",
      "\n",
      "For a guide to updating your code to use the new functions, please see\n",
      "https://gist.github.com/mwaskom/de44147ed2974457ad6372750bbe5751\n",
      "\n",
      "  sns.distplot(maleHighRiskPreds,\n"
     ]
    },
    {
     "data": {
      "text/plain": [
       "<matplotlib.legend.Legend at 0x155a630d0>"
      ]
     },
     "execution_count": 91,
     "metadata": {},
     "output_type": "execute_result"
    },
    {
     "data": {
      "image/png": "[encoded data removed]",
      "text/plain": [
       "<Figure size 720x360 with 1 Axes>"
      ]
     },
     "metadata": {
      "needs_background": "light"
     },
     "output_type": "display_data"
    },
    {
     "data": {
      "image/png": "[encoded data removed]",
      "text/plain": [
       "<Figure size 720x360 with 1 Axes>"
      ]
     },
     "metadata": {
      "needs_background": "light"
     },
     "output_type": "display_data"
    }
   ],
   "source": [
    "# YOUR CODE HERE\n",
    "\n",
    "#print (test_y_white.head())\n",
    "\n",
    "maleLowRiskPreds = dnnmodel(test_x_male_lowrisk).detach()\n",
    "maleHighRiskPreds = dnnmodel(test_x_male_highrisk).detach()\n",
    "\n",
    "femaleLowRiskPreds = dnnmodel(test_x_female_lowrisk).detach()\n",
    "femaleHighRiskPreds = dnnmodel(test_x_female_highrisk).detach()\n",
    "\n",
    "import seaborn as sns\n",
    "plt.figure(figsize=(10,5))\n",
    "sns.distplot(femaleLowRiskPreds, \n",
    "             color=\"red\", \n",
    "             label=\"Female Low Risk Folk\").set(title = \"Low Risk Folks' Score Distributions\")\n",
    "sns.distplot(maleLowRiskPreds, \n",
    "             color=\"blue\", \n",
    "             label=\"Male Low Risk Folk\").set(title = \"Low Risk Folks' Score Distributions\")\n",
    "plt.legend()\n",
    "\n",
    "plt.figure(figsize=(10,5))\n",
    "sns.distplot(femaleHighRiskPreds, \n",
    "             color=\"red\", \n",
    "             label=\"Female High Risk Folk\").set(title = \"High Risk Folks' Score Distributions\")\n",
    "sns.distplot(maleHighRiskPreds, \n",
    "             color=\"blue\", \n",
    "             label=\"Male High Risk Folk\").set(title = \"High Risk Folks' Score Distributions\")\n",
    "plt.legend()\n",
    "\n",
    "\n"
   ]
  },
  {
   "cell_type": "markdown",
   "id": "95f051c3",
   "metadata": {},
   "source": [
    "Separation means that R _|_ A | Y.  So given the true label of recidivism, the logistic regression output must be independent of the race sensitive variable A.  This does NOT satisfy separation, because for both labels (non-recidivists and recidivists), we can see that the model outputted significantly lower scores for white people."
   ]
  }
 ],
 "metadata": {
  "colab": {
   "provenance": []
  },
  "kernelspec": {
   "display_name": "Python 3 (ipykernel)",
   "language": "python",
   "name": "python3"
  },
  "language_info": {
   "codemirror_mode": {
    "name": "ipython",
    "version": 3
   },
   "file_extension": ".py",
   "mimetype": "text/x-python",
   "name": "python",
   "nbconvert_exporter": "python",
   "pygments_lexer": "ipython3",
   "version": "3.9.9"
  }
 },
 "nbformat": 4,
 "nbformat_minor": 5
}
